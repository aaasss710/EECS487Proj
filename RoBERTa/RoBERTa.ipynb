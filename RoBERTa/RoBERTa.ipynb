{
 "cells": [
  {
   "cell_type": "code",
   "execution_count": 16,
   "metadata": {},
   "outputs": [
    {
     "ename": "NameError",
     "evalue": "name 'CustomRobertaModel' is not defined",
     "output_type": "error",
     "traceback": [
      "\u001b[1;31m---------------------------------------------------------------------------\u001b[0m",
      "\u001b[1;31mNameError\u001b[0m                                 Traceback (most recent call last)",
      "Cell \u001b[1;32mIn[16], line 6\u001b[0m\n\u001b[0;32m      3\u001b[0m \u001b[39mfrom\u001b[39;00m \u001b[39mtransformers\u001b[39;00m \u001b[39mimport\u001b[39;00m RobertaModel, list_adapters\n\u001b[0;32m      4\u001b[0m \u001b[39mimport\u001b[39;00m \u001b[39mtorch\u001b[39;00m\n\u001b[1;32m----> 6\u001b[0m roberta \u001b[39m=\u001b[39m CustomRobertaModel\u001b[39m.\u001b[39mfrom_pretrained(\u001b[39m'\u001b[39m\u001b[39mroberta-base\u001b[39m\u001b[39m'\u001b[39m)\n\u001b[0;32m      7\u001b[0m adapter_name \u001b[39m=\u001b[39m roberta\u001b[39m.\u001b[39mload_adapter(\u001b[39m\"\u001b[39m\u001b[39mAdapterHub/bert-base-uncased-pf-imdb\u001b[39m\u001b[39m\"\u001b[39m, source\u001b[39m=\u001b[39m\u001b[39m\"\u001b[39m\u001b[39mhf\u001b[39m\u001b[39m\"\u001b[39m)\n\u001b[0;32m      8\u001b[0m roberta\u001b[39m.\u001b[39mactive_adapters \u001b[39m=\u001b[39m adapter_name\n",
      "\u001b[1;31mNameError\u001b[0m: name 'CustomRobertaModel' is not defined"
     ]
    }
   ],
   "source": [
    "# !pip install transformers\n",
    "# !pip install adapter-transformers\n",
    "from transformers import RobertaModel, list_adapters\n",
    "import torch\n",
    "\n",
    "roberta = RobertaModel.from_pretrained('roberta-base')\n",
    "adapter_name = roberta.load_adapter(\"AdapterHub/bert-base-uncased-pf-imdb\", source=\"hf\")\n",
    "roberta.active_adapters = adapter_name\n",
    "\n",
    "# Freeze all parameters except those of the adapter\n",
    "for name, param in roberta.named_parameters():\n",
    "    if f\"adapters.{adapter_name}\" not in name:\n",
    "        param.requires_grad = False\n",
    "roberta.config\n",
    "\n"
   ]
  },
  {
   "cell_type": "code",
   "execution_count": 15,
   "metadata": {},
   "outputs": [
    {
     "name": "stdout",
     "output_type": "stream",
     "text": [
      "tensor(-0.1039, grad_fn=<SelectBackward0>)\n"
     ]
    }
   ],
   "source": [
    "from transformers import RobertaTokenizer, RobertaModel\n",
    "\n",
    "# Load the RoBERTa tokenizer\n",
    "tokenizer = RobertaTokenizer.from_pretrained('roberta-base')\n",
    "\n",
    "\n",
    "input_text = \"This is an example sentence.\"\n",
    "encoded_input = tokenizer(input_text, return_tensors='pt')\n",
    "\n",
    "outputs1 = roberta(**encoded_input)\n",
    "\n",
    "# Get the CLS output (the first token embedding)\n",
    "cls_output1 = outputs1.last_hidden_state[:, 0, :]\n",
    "print(cls_output1[0,0])\n"
   ]
  }
 ],
 "metadata": {
  "kernelspec": {
   "display_name": "545",
   "language": "python",
   "name": "python3"
  },
  "language_info": {
   "codemirror_mode": {
    "name": "ipython",
    "version": 3
   },
   "file_extension": ".py",
   "mimetype": "text/x-python",
   "name": "python",
   "nbconvert_exporter": "python",
   "pygments_lexer": "ipython3",
   "version": "3.10.9"
  },
  "orig_nbformat": 4
 },
 "nbformat": 4,
 "nbformat_minor": 2
}
