{
 "cells": [
  {
   "cell_type": "code",
   "execution_count": 1,
   "metadata": {},
   "outputs": [],
   "source": [
    "import torch\n",
    "import argparse\n",
    "from torch.optim import AdamW\n",
    "from torch.utils.data import DataLoader\n",
    "from tqdm import tqdm\n",
    "from load_wiki_dataset import wikiData\n",
    "from RoBERTa import CustomRobertaModel\n",
    "from losses import align_loss, uniform_loss\n"
   ]
  },
  {
   "cell_type": "code",
   "execution_count": 2,
   "metadata": {},
   "outputs": [],
   "source": [
    "def parse_arguments():\n",
    "    parser = argparse.ArgumentParser()\n",
    "    parser.add_argument('--epochs', type=int, default=10, help='Number of training epochs')\n",
    "    parser.add_argument('--batch_size', type=int, default=64, help='Batch size')\n",
    "    parser.add_argument('--learning_rate', type=float, default=1e-4, help='Learning rate')\n",
    "    parser.add_argument('--data_path', type=str, default='./data/wiki1m_for_simcse.txt', help='Path to the dataset')\n",
    "    return parser.parse_args()\n"
   ]
  },
  {
   "cell_type": "code",
   "execution_count": 3,
   "metadata": {},
   "outputs": [],
   "source": [
    "def train_model(args):\n",
    "    # Load dataset\n",
    "    with open(args.data_path, 'r', encoding='UTF-8') as f:\n",
    "        input_text = f.readlines()\n",
    "\n",
    "    wiki = wikiData(input_text)\n",
    "    train_params = {'batch_size': args.batch_size, 'shuffle': True, 'num_workers': 0}\n",
    "    trainloader = DataLoader(wiki, **train_params)\n",
    "\n",
    "    # Initialize model\n",
    "    model = CustomRobertaModel()\n",
    "    model.train()\n",
    "\n",
    "    # Set up the optimizer\n",
    "    optimizer = AdamW(model.parameters(), lr=args.learning_rate)\n",
    "\n",
    "    # Training loop\n",
    "    for epoch in range(args.epochs):\n",
    "        epoch_loss = 0\n",
    "        for batch in tqdm(trainloader, desc=f\"Epoch {epoch + 1}/{args.epochs}\"):\n",
    "            optimizer.zero_grad()\n",
    "            loss, _ = model(batch)\n",
    "            loss.backward()\n",
    "            optimizer.step()\n",
    "            epoch_loss += loss.item()\n",
    "\n",
    "        print(f\"Epoch {epoch + 1} Loss: {epoch_loss / len(trainloader)}\")\n",
    "\n",
    "    return model\n"
   ]
  },
  {
   "cell_type": "code",
   "execution_count": 4,
   "metadata": {},
   "outputs": [
    {
     "name": "stderr",
     "output_type": "stream",
     "text": [
      "usage: ipykernel_launcher.py [-h] [--epochs EPOCHS] [--batch_size BATCH_SIZE]\n",
      "                             [--learning_rate LEARNING_RATE]\n",
      "                             [--data_path DATA_PATH]\n",
      "ipykernel_launcher.py: error: unrecognized arguments: --ip=127.0.0.1 --stdin=9003 --control=9001 --hb=9000 --Session.signature_scheme=\"hmac-sha256\" --Session.key=b\"f7598d24-18a8-476e-9883-3c6bf6a68c15\" --shell=9002 --transport=\"tcp\" --iopub=9004 --f=c:\\Users\\Ben\\AppData\\Roaming\\jupyter\\runtime\\kernel-v2-19332iJwrq43oeDRN.json\n"
     ]
    },
    {
     "ename": "SystemExit",
     "evalue": "2",
     "output_type": "error",
     "traceback": [
      "An exception has occurred, use %tb to see the full traceback.\n",
      "\u001b[1;31mSystemExit\u001b[0m\u001b[1;31m:\u001b[0m 2\n"
     ]
    },
    {
     "name": "stderr",
     "output_type": "stream",
     "text": [
      "C:\\Users\\Ben\\AppData\\Roaming\\Python\\Python310\\site-packages\\IPython\\core\\interactiveshell.py:3468: UserWarning: To exit: use 'exit', 'quit', or Ctrl-D.\n",
      "  warn(\"To exit: use 'exit', 'quit', or Ctrl-D.\", stacklevel=1)\n"
     ]
    }
   ],
   "source": [
    "\n",
    "args = parse_arguments()\n",
    "trained_model = train_model(args)\n",
    "    # Save the trained model if needed\n",
    "    # trained_model.save_pretrained('./trained_model')\n"
   ]
  }
 ],
 "metadata": {
  "kernelspec": {
   "display_name": "545",
   "language": "python",
   "name": "python3"
  },
  "language_info": {
   "codemirror_mode": {
    "name": "ipython",
    "version": 3
   },
   "file_extension": ".py",
   "mimetype": "text/x-python",
   "name": "python",
   "nbconvert_exporter": "python",
   "pygments_lexer": "ipython3",
   "version": "3.10.9"
  },
  "orig_nbformat": 4
 },
 "nbformat": 4,
 "nbformat_minor": 2
}
